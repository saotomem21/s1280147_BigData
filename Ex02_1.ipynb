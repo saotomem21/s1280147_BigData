{
  "nbformat": 4,
  "nbformat_minor": 0,
  "metadata": {
    "colab": {
      "provenance": [],
      "mount_file_id": "1GavWRWz61byzZQDH5x-K-oJx3eF9PVpU",
      "authorship_tag": "ABX9TyOT5yOw1HppMQkHbhJABuXy",
      "include_colab_link": true
    },
    "kernelspec": {
      "name": "python3",
      "display_name": "Python 3"
    },
    "language_info": {
      "name": "python"
    }
  },
  "cells": [
    {
      "cell_type": "markdown",
      "metadata": {
        "id": "view-in-github",
        "colab_type": "text"
      },
      "source": [
        "<a href=\"https://colab.research.google.com/github/saotomem21/s1280147_BigData/blob/main/Ex02_1.ipynb\" target=\"_parent\"><img src=\"https://colab.research.google.com/assets/colab-badge.svg\" alt=\"Open In Colab\"/></a>"
      ]
    },
    {
      "cell_type": "markdown",
      "source": [
        "# Heading level 1\n",
        "## Heading level 2\n",
        "### Heading level 3\n",
        "#### Heading level 4\n",
        "##### Heading level 5\n",
        "###### Heading level 6\n",
        "# Write the above lines in a cell, choose the markdown instead of Code in\n",
        "# compile the markdown and print below code. DO NOT WRITE THESE LINES TO\n"
      ],
      "metadata": {
        "id": "tdkgUEN4ygPY"
      }
    },
    {
      "cell_type": "markdown",
      "source": [
        "# __two underscores before and after the text__"
      ],
      "metadata": {
        "id": "MdZRLI-kyjki"
      }
    },
    {
      "cell_type": "markdown",
      "source": [
        "# _single underscore before and after the text_"
      ],
      "metadata": {
        "id": "ZBga-ymEypsc"
      }
    },
    {
      "cell_type": "markdown",
      "source": [
        "# - Dash before text\n",
        "# - will print the text\n",
        "# - with numbered point"
      ],
      "metadata": {
        "id": "nUF1j7wtys-A"
      }
    },
    {
      "cell_type": "markdown",
      "source": [
        "# 1. sample\n",
        "# 2. text\n",
        "# 3. test"
      ],
      "metadata": {
        "id": "416i1dEsywZk"
      }
    },
    {
      "cell_type": "markdown",
      "source": [
        "# | Heading 1 | Heading 2 |\n",
        "# | ----------- | ----------- |\n",
        "# | 1 | xx |\n",
        "# | 2 | yy |"
      ],
      "metadata": {
        "id": "pMTVNmWByzbp"
      }
    },
    {
      "cell_type": "markdown",
      "source": [
        "# ![Apple](apple_image.jpg)"
      ],
      "metadata": {
        "id": "2l4IT9Jpy3n9"
      }
    },
    {
      "cell_type": "markdown",
      "source": [
        "# <u>Underscore text </u>"
      ],
      "metadata": {
        "id": "-v8AdAcKzh_9"
      }
    },
    {
      "cell_type": "markdown",
      "source": [
        "# ***"
      ],
      "metadata": {
        "id": "kQZWHlI-zi-v"
      }
    },
    {
      "cell_type": "code",
      "source": [
        "print(\"Hello World\")"
      ],
      "metadata": {
        "colab": {
          "base_uri": "https://localhost:8080/"
        },
        "id": "sSLLMlz6zp7f",
        "outputId": "51f327fe-478c-4285-91d7-04ef24480248"
      },
      "execution_count": 5,
      "outputs": [
        {
          "output_type": "stream",
          "name": "stdout",
          "text": [
            "Hello World\n"
          ]
        }
      ]
    },
    {
      "cell_type": "code",
      "source": [
        "a = 10"
      ],
      "metadata": {
        "id": "BRYe5bbRztbX"
      },
      "execution_count": 6,
      "outputs": []
    },
    {
      "cell_type": "code",
      "source": [
        "print(a)"
      ],
      "metadata": {
        "colab": {
          "base_uri": "https://localhost:8080/"
        },
        "id": "vn1ESheazv3D",
        "outputId": "d12bf2be-f82b-45e5-cc1b-df8a61b97ba7"
      },
      "execution_count": 7,
      "outputs": [
        {
          "output_type": "stream",
          "name": "stdout",
          "text": [
            "10\n"
          ]
        }
      ]
    },
    {
      "cell_type": "code",
      "source": [
        "print(type(a))"
      ],
      "metadata": {
        "colab": {
          "base_uri": "https://localhost:8080/"
        },
        "id": "woEvqaWEz1GU",
        "outputId": "798bb731-34d2-48f2-e6a1-7cfaa11db93c"
      },
      "execution_count": 8,
      "outputs": [
        {
          "output_type": "stream",
          "name": "stdout",
          "text": [
            "<class 'int'>\n"
          ]
        }
      ]
    },
    {
      "cell_type": "code",
      "source": [
        "string = \"Hello\""
      ],
      "metadata": {
        "id": "GHc1MUU7z8kD"
      },
      "execution_count": 9,
      "outputs": []
    },
    {
      "cell_type": "code",
      "source": [
        "print(string[1])"
      ],
      "metadata": {
        "colab": {
          "base_uri": "https://localhost:8080/"
        },
        "id": "wPY2tbvzz9fB",
        "outputId": "6160411f-1c9a-4721-8507-eb2d4dbf4933"
      },
      "execution_count": 10,
      "outputs": [
        {
          "output_type": "stream",
          "name": "stdout",
          "text": [
            "e\n"
          ]
        }
      ]
    },
    {
      "cell_type": "code",
      "source": [
        "print(len(string))"
      ],
      "metadata": {
        "colab": {
          "base_uri": "https://localhost:8080/"
        },
        "id": "zwuFYeTM0BEk",
        "outputId": "a3651dd6-f5c4-4219-cfd1-9c8af0968198"
      },
      "execution_count": 11,
      "outputs": [
        {
          "output_type": "stream",
          "name": "stdout",
          "text": [
            "5\n"
          ]
        }
      ]
    },
    {
      "cell_type": "code",
      "source": [
        "string2 = \"World\"\n",
        "if string == string2:\n",
        "    print(\"Both Strings are same.\")\n",
        "else:\n",
        " print(\"Both Strings are not same.\")"
      ],
      "metadata": {
        "colab": {
          "base_uri": "https://localhost:8080/"
        },
        "id": "6yxvsF3D0D-m",
        "outputId": "c8f75896-6ea9-456e-e424-5015df0b9d73"
      },
      "execution_count": 12,
      "outputs": [
        {
          "output_type": "stream",
          "name": "stdout",
          "text": [
            "Both Strings are not same.\n"
          ]
        }
      ]
    },
    {
      "cell_type": "code",
      "source": [
        "string3 = string + string2\n",
        "print(string3)"
      ],
      "metadata": {
        "colab": {
          "base_uri": "https://localhost:8080/"
        },
        "id": "uPa3WbGE0KqE",
        "outputId": "dab8dfc8-ecb3-4dfa-b8d5-558269b949a5"
      },
      "execution_count": 13,
      "outputs": [
        {
          "output_type": "stream",
          "name": "stdout",
          "text": [
            "HelloWorld\n"
          ]
        }
      ]
    },
    {
      "cell_type": "code",
      "source": [
        "sampleList = [3, 5, 6, 18, 10]"
      ],
      "metadata": {
        "id": "Q6SFSX5S0NWk"
      },
      "execution_count": 14,
      "outputs": []
    },
    {
      "cell_type": "code",
      "source": [
        "print(len(sampleList))"
      ],
      "metadata": {
        "colab": {
          "base_uri": "https://localhost:8080/"
        },
        "id": "8MG7ZWgr0QHp",
        "outputId": "a7cedd6a-a6c0-494f-e055-ff8dba0895fb"
      },
      "execution_count": 15,
      "outputs": [
        {
          "output_type": "stream",
          "name": "stdout",
          "text": [
            "5\n"
          ]
        }
      ]
    },
    {
      "cell_type": "code",
      "source": [
        "for i in sampleList:\n",
        " print(i)"
      ],
      "metadata": {
        "colab": {
          "base_uri": "https://localhost:8080/"
        },
        "id": "_kBg-9jg0TAb",
        "outputId": "cc2719ef-c163-4869-8fe3-71fd3a2b4446"
      },
      "execution_count": 16,
      "outputs": [
        {
          "output_type": "stream",
          "name": "stdout",
          "text": [
            "3\n",
            "5\n",
            "6\n",
            "18\n",
            "10\n"
          ]
        }
      ]
    },
    {
      "cell_type": "code",
      "source": [
        "sampleList.append(22)"
      ],
      "metadata": {
        "id": "T-gFPxZR0Vsv"
      },
      "execution_count": 17,
      "outputs": []
    },
    {
      "cell_type": "code",
      "source": [
        "sampleList.remove(3)"
      ],
      "metadata": {
        "id": "a_pGy5Sp0Y3E"
      },
      "execution_count": 18,
      "outputs": []
    },
    {
      "cell_type": "code",
      "source": [
        "print(min(sampleList))\n",
        "print(max(sampleList))"
      ],
      "metadata": {
        "colab": {
          "base_uri": "https://localhost:8080/"
        },
        "id": "9RxNXDaF0czQ",
        "outputId": "bff30e7c-622b-41e2-b1d9-c82a61ebc4ba"
      },
      "execution_count": 19,
      "outputs": [
        {
          "output_type": "stream",
          "name": "stdout",
          "text": [
            "5\n",
            "22\n"
          ]
        }
      ]
    },
    {
      "cell_type": "code",
      "source": [
        "name = input(\"Enter your name:\")"
      ],
      "metadata": {
        "colab": {
          "base_uri": "https://localhost:8080/"
        },
        "id": "ejEBRDki0fcd",
        "outputId": "49830620-3631-4ae9-8820-737e8b7b4d3b"
      },
      "execution_count": 20,
      "outputs": [
        {
          "name": "stdout",
          "output_type": "stream",
          "text": [
            "Enter your name:ABCM\n"
          ]
        }
      ]
    },
    {
      "cell_type": "code",
      "source": [
        "print(\"Hello \" + name + \" ! \")"
      ],
      "metadata": {
        "colab": {
          "base_uri": "https://localhost:8080/"
        },
        "id": "VxRTXKKN0lzw",
        "outputId": "7bc15870-9f24-440b-cb71-6c803e04bbfa"
      },
      "execution_count": 21,
      "outputs": [
        {
          "output_type": "stream",
          "name": "stdout",
          "text": [
            "Hello ABCM ! \n"
          ]
        }
      ]
    },
    {
      "cell_type": "code",
      "source": [
        "num = int(input(\"Enter a number: \"))"
      ],
      "metadata": {
        "colab": {
          "base_uri": "https://localhost:8080/"
        },
        "id": "B-PaqROM0mqD",
        "outputId": "0b077ada-2294-4d42-f1bb-0beca1725eea"
      },
      "execution_count": 22,
      "outputs": [
        {
          "name": "stdout",
          "output_type": "stream",
          "text": [
            "Enter a number: 1239\n"
          ]
        }
      ]
    },
    {
      "cell_type": "code",
      "source": [
        "print(num)"
      ],
      "metadata": {
        "colab": {
          "base_uri": "https://localhost:8080/"
        },
        "id": "Gk7h0edo0pRJ",
        "outputId": "8739e756-4d37-49b8-9c04-fdd65f7db9d5"
      },
      "execution_count": 23,
      "outputs": [
        {
          "output_type": "stream",
          "name": "stdout",
          "text": [
            "1239\n"
          ]
        }
      ]
    },
    {
      "cell_type": "code",
      "source": [
        "a = 20\n",
        "b = 10\n",
        "sum = a + b\n",
        "# Several ways to print\n",
        "print(\"The total sum of values a and b is: {}\".format(sum))\n",
        "print(\"The total sum of values a and b is: %d\" %sum)\n",
        "print(\"The total sum of values a and b is:\", sum)"
      ],
      "metadata": {
        "colab": {
          "base_uri": "https://localhost:8080/"
        },
        "id": "OHZbsM4k0sNo",
        "outputId": "17fb558a-c38b-42e5-a3a4-0c1298a388e2"
      },
      "execution_count": 24,
      "outputs": [
        {
          "output_type": "stream",
          "name": "stdout",
          "text": [
            "The total sum of values a and b is: 30\n",
            "The total sum of values a and b is: 30\n",
            "The total sum of values a and b is: 30\n"
          ]
        }
      ]
    },
    {
      "cell_type": "code",
      "source": [
        "a, b, c = input(\"Enter any three values: \").split()\n",
        "print(\"First number: \", a)\n",
        "print(\"Second number: \", b)\n",
        "print(\"Third number: \", c)"
      ],
      "metadata": {
        "colab": {
          "base_uri": "https://localhost:8080/"
        },
        "id": "dUBW4Wmp0vhe",
        "outputId": "b33c1424-c727-4cf3-e6d4-46734de01e30"
      },
      "execution_count": 25,
      "outputs": [
        {
          "output_type": "stream",
          "name": "stdout",
          "text": [
            "Enter any three values: 34 51 79\n",
            "First number:  34\n",
            "Second number:  51\n",
            "Third number:  79\n"
          ]
        }
      ]
    },
    {
      "cell_type": "code",
      "source": [
        "def HelloWorld():\n",
        " print(\"Hello World\")"
      ],
      "metadata": {
        "id": "SjgoFDp00y1C"
      },
      "execution_count": 26,
      "outputs": []
    },
    {
      "cell_type": "code",
      "source": [
        "HelloWorld()"
      ],
      "metadata": {
        "colab": {
          "base_uri": "https://localhost:8080/"
        },
        "id": "d1v3Hc4r014D",
        "outputId": "58647354-3d2a-439d-fb26-3baedf207a3c"
      },
      "execution_count": 27,
      "outputs": [
        {
          "output_type": "stream",
          "name": "stdout",
          "text": [
            "Hello World\n"
          ]
        }
      ]
    },
    {
      "cell_type": "markdown",
      "source": [
        "## Syntax: !pip install package-name\n",
        "Example: !pip install pami"
      ],
      "metadata": {
        "id": "lEFssKkw073V"
      }
    },
    {
      "cell_type": "code",
      "source": [
        "!pip install pami"
      ],
      "metadata": {
        "colab": {
          "base_uri": "https://localhost:8080/"
        },
        "id": "9p7WI11i1bRN",
        "outputId": "bbbdf6e7-785e-48d7-ceb0-36b7baf4ef70"
      },
      "execution_count": 29,
      "outputs": [
        {
          "output_type": "stream",
          "name": "stdout",
          "text": [
            "Collecting pami\n",
            "  Downloading pami-2023.9.1.1-py3-none-any.whl (872 kB)\n",
            "\u001b[?25l     \u001b[90m━━━━━━━━━━━━━━━━━━━━━━━━━━━━━━━━━━━━━━━━\u001b[0m \u001b[32m0.0/872.4 kB\u001b[0m \u001b[31m?\u001b[0m eta \u001b[36m-:--:--\u001b[0m\r\u001b[2K     \u001b[91m━━━━━━━━\u001b[0m\u001b[91m╸\u001b[0m\u001b[90m━━━━━━━━━━━━━━━━━━━━━━━━━━━━━━\u001b[0m \u001b[32m194.6/872.4 kB\u001b[0m \u001b[31m5.6 MB/s\u001b[0m eta \u001b[36m0:00:01\u001b[0m\r\u001b[2K     \u001b[90m━━━━━━━━━━━━━━━━━━━━━━━━━━━━━━━━━━━━━━\u001b[0m \u001b[32m872.4/872.4 kB\u001b[0m \u001b[31m13.2 MB/s\u001b[0m eta \u001b[36m0:00:00\u001b[0m\n",
            "\u001b[?25hRequirement already satisfied: psutil in /usr/local/lib/python3.10/dist-packages (from pami) (5.9.5)\n",
            "Requirement already satisfied: pandas in /usr/local/lib/python3.10/dist-packages (from pami) (1.5.3)\n",
            "Requirement already satisfied: plotly in /usr/local/lib/python3.10/dist-packages (from pami) (5.15.0)\n",
            "Requirement already satisfied: matplotlib in /usr/local/lib/python3.10/dist-packages (from pami) (3.7.1)\n",
            "Collecting resource (from pami)\n",
            "  Downloading Resource-0.2.1-py2.py3-none-any.whl (25 kB)\n",
            "Collecting validators (from pami)\n",
            "  Downloading validators-0.22.0-py3-none-any.whl (26 kB)\n",
            "Requirement already satisfied: urllib3 in /usr/local/lib/python3.10/dist-packages (from pami) (2.0.6)\n",
            "Requirement already satisfied: Pillow in /usr/local/lib/python3.10/dist-packages (from pami) (9.4.0)\n",
            "Requirement already satisfied: numpy in /usr/local/lib/python3.10/dist-packages (from pami) (1.23.5)\n",
            "Requirement already satisfied: contourpy>=1.0.1 in /usr/local/lib/python3.10/dist-packages (from matplotlib->pami) (1.1.1)\n",
            "Requirement already satisfied: cycler>=0.10 in /usr/local/lib/python3.10/dist-packages (from matplotlib->pami) (0.12.1)\n",
            "Requirement already satisfied: fonttools>=4.22.0 in /usr/local/lib/python3.10/dist-packages (from matplotlib->pami) (4.43.1)\n",
            "Requirement already satisfied: kiwisolver>=1.0.1 in /usr/local/lib/python3.10/dist-packages (from matplotlib->pami) (1.4.5)\n",
            "Requirement already satisfied: packaging>=20.0 in /usr/local/lib/python3.10/dist-packages (from matplotlib->pami) (23.2)\n",
            "Requirement already satisfied: pyparsing>=2.3.1 in /usr/local/lib/python3.10/dist-packages (from matplotlib->pami) (3.1.1)\n",
            "Requirement already satisfied: python-dateutil>=2.7 in /usr/local/lib/python3.10/dist-packages (from matplotlib->pami) (2.8.2)\n",
            "Requirement already satisfied: pytz>=2020.1 in /usr/local/lib/python3.10/dist-packages (from pandas->pami) (2023.3.post1)\n",
            "Requirement already satisfied: tenacity>=6.2.0 in /usr/local/lib/python3.10/dist-packages (from plotly->pami) (8.2.3)\n",
            "Collecting JsonForm>=0.0.2 (from resource->pami)\n",
            "  Downloading JsonForm-0.0.2.tar.gz (2.4 kB)\n",
            "  Preparing metadata (setup.py) ... \u001b[?25l\u001b[?25hdone\n",
            "Collecting JsonSir>=0.0.2 (from resource->pami)\n",
            "  Downloading JsonSir-0.0.2.tar.gz (2.2 kB)\n",
            "  Preparing metadata (setup.py) ... \u001b[?25l\u001b[?25hdone\n",
            "Collecting python-easyconfig>=0.1.0 (from resource->pami)\n",
            "  Downloading Python_EasyConfig-0.1.7-py2.py3-none-any.whl (5.4 kB)\n",
            "Requirement already satisfied: jsonschema in /usr/local/lib/python3.10/dist-packages (from JsonForm>=0.0.2->resource->pami) (4.19.1)\n",
            "Requirement already satisfied: six>=1.5 in /usr/local/lib/python3.10/dist-packages (from python-dateutil>=2.7->matplotlib->pami) (1.16.0)\n",
            "Requirement already satisfied: PyYAML in /usr/local/lib/python3.10/dist-packages (from python-easyconfig>=0.1.0->resource->pami) (6.0.1)\n",
            "Requirement already satisfied: attrs>=22.2.0 in /usr/local/lib/python3.10/dist-packages (from jsonschema->JsonForm>=0.0.2->resource->pami) (23.1.0)\n",
            "Requirement already satisfied: jsonschema-specifications>=2023.03.6 in /usr/local/lib/python3.10/dist-packages (from jsonschema->JsonForm>=0.0.2->resource->pami) (2023.7.1)\n",
            "Requirement already satisfied: referencing>=0.28.4 in /usr/local/lib/python3.10/dist-packages (from jsonschema->JsonForm>=0.0.2->resource->pami) (0.30.2)\n",
            "Requirement already satisfied: rpds-py>=0.7.1 in /usr/local/lib/python3.10/dist-packages (from jsonschema->JsonForm>=0.0.2->resource->pami) (0.10.4)\n",
            "Building wheels for collected packages: JsonForm, JsonSir\n",
            "  Building wheel for JsonForm (setup.py) ... \u001b[?25l\u001b[?25hdone\n",
            "  Created wheel for JsonForm: filename=JsonForm-0.0.2-py3-none-any.whl size=3313 sha256=f7b2fb5e092cb0ae1c5f6058c9dbe1b1f66c0f347866318abf645834742a132b\n",
            "  Stored in directory: /root/.cache/pip/wheels/b6/e5/87/11026246d3bd4ad67c0615682d2d6748bbd9a40ac0490882bd\n",
            "  Building wheel for JsonSir (setup.py) ... \u001b[?25l\u001b[?25hdone\n",
            "  Created wheel for JsonSir: filename=JsonSir-0.0.2-py3-none-any.whl size=4750 sha256=d86ea28b06af7f9915759bcaeb6985e707d4045e2dfa2f6aacdad1e196ed6124\n",
            "  Stored in directory: /root/.cache/pip/wheels/1d/4c/d3/4d9757425983b43eb709be1043d82cd03fb863ce5f56f117e6\n",
            "Successfully built JsonForm JsonSir\n",
            "Installing collected packages: JsonSir, validators, python-easyconfig, JsonForm, resource, pami\n",
            "Successfully installed JsonForm-0.0.2 JsonSir-0.0.2 pami-2023.9.1.1 python-easyconfig-0.1.7 resource-0.2.1 validators-0.22.0\n"
          ]
        }
      ]
    },
    {
      "cell_type": "code",
      "source": [
        "# Reading a .csv file\n",
        "import csv\n",
        "file = open('/content/drive/My Drive/BigData_2023/station_Info.csv')\n",
        "csvreader = csv.reader(file)\n",
        "# Printing Column names in csv file\n",
        "header = next(csvreader)\n",
        "print(header)"
      ],
      "metadata": {
        "colab": {
          "base_uri": "https://localhost:8080/"
        },
        "id": "7RTN4qCy084Q",
        "outputId": "c233233d-3d1e-4424-9435-1419159ece12"
      },
      "execution_count": 31,
      "outputs": [
        {
          "output_type": "stream",
          "name": "stdout",
          "text": [
            "['rowNumber', 'stationId', 'Location', 'Address']\n"
          ]
        }
      ]
    },
    {
      "cell_type": "code",
      "source": [
        "# Reading csv file into a dataframe\n",
        "import pandas as pd\n",
        "df = pd.read_csv('/content/drive/My Drive/BigData_2023/station_Info.csv')\n",
        "# If you get error to open the file using the above code give absolute pa\n",
        "# df = pd.read_csv('Exercise_1/inputFileName.csv')\n",
        "# You can get absolute path by right click -> copy path.\n",
        "# Printing the first rows of dataframe\n",
        "print(df.head())\n",
        "# Printing the column names\n",
        "print(df.columns)\n",
        "# Dropping columns from dataframe\n",
        "print(df.drop('stationId', axis=1))\n",
        "# Printing number of rows and columns in dataframe\n",
        "print(df.shape)"
      ],
      "metadata": {
        "colab": {
          "base_uri": "https://localhost:8080/"
        },
        "id": "4S4Nz6ek1AdY",
        "outputId": "c1e490b5-b2d0-4bb4-ce32-f0eb2b0e41a1"
      },
      "execution_count": 33,
      "outputs": [
        {
          "output_type": "stream",
          "name": "stdout",
          "text": [
            "   rowNumber  stationId                              Location          Address\n",
            "0          1    1101010  Point(141.3532777 43.06225480000001)       札幌市中央区北１西２\n",
            "1          2    1101020         Point(141.3252375 43.0396273)     札幌市中央区南２３西１３\n",
            "2          3    1101520  Point(141.3532777 43.06225480000001)       札幌市中央区北１西２\n",
            "3          4    1101540         Point(141.3445286 43.0409769)  札幌市中央区南１４条西１０丁目\n",
            "4          5    1102010         Point(141.3711567 43.1453261)       札幌市北区篠路４－９\n",
            "Index(['rowNumber', 'stationId', 'Location', 'Address'], dtype='object')\n",
            "      rowNumber                              Location              Address\n",
            "0             1  Point(141.3532777 43.06225480000001)           札幌市中央区北１西２\n",
            "1             2         Point(141.3252375 43.0396273)         札幌市中央区南２３西１３\n",
            "2             3  Point(141.3532777 43.06225480000001)           札幌市中央区北１西２\n",
            "3             4         Point(141.3445286 43.0409769)      札幌市中央区南１４条西１０丁目\n",
            "4             5         Point(141.3711567 43.1453261)           札幌市北区篠路４－９\n",
            "...         ...                                   ...                  ...\n",
            "1742       1743         Point(127.6656429 26.1460274)          糸満市西崎町３－１７９\n",
            "1743       1744         Point(127.8197995 26.3478034)          沖縄市美原１－６－２８\n",
            "1744       1745         Point(128.1779451 26.7456488)  国頭郡国頭村大字宜名真字長根原1000\n",
            "1745       1746         Point(127.9723621 26.3565509)         うるま市与那城桃原２１９\n",
            "1746       1747         Point(127.7578588 26.2219792)        中頭郡西原町字与那城１３５\n",
            "\n",
            "[1747 rows x 3 columns]\n",
            "(1747, 4)\n"
          ]
        }
      ]
    },
    {
      "cell_type": "code",
      "source": [
        "# Add the description about the code using comments.\n",
        "def hello_world():\n",
        " # A simple comment preceding a simple print statement\n",
        " print(\"Hello World\")"
      ],
      "metadata": {
        "id": "KqIlgne01GP9"
      },
      "execution_count": 34,
      "outputs": []
    }
  ]
}